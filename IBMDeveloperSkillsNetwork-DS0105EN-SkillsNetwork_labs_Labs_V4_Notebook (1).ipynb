{
  "metadata": {
    "language_info": {
      "codemirror_mode": {
        "name": "python",
        "version": 3
      },
      "file_extension": ".py",
      "mimetype": "text/x-python",
      "name": "python",
      "nbconvert_exporter": "python",
      "pygments_lexer": "ipython3",
      "version": "3.8"
    },
    "kernelspec": {
      "name": "python",
      "display_name": "Python (Pyodide)",
      "language": "python"
    }
  },
  "nbformat_minor": 4,
  "nbformat": 4,
  "cells": [
    {
      "cell_type": "markdown",
      "source": "## Notebook",
      "metadata": {}
    },
    {
      "cell_type": "markdown",
      "source": "Introduction",
      "metadata": {}
    },
    {
      "cell_type": "markdown",
      "source": "# Data Science Languages\n1. R languages\n2. SQL\n3. JAVA\n4. Julia\n5. SCALA",
      "metadata": {}
    },
    {
      "cell_type": "markdown",
      "source": "### Data Science Libraries\n1. Tensorflow\n2. Pytorch\n3. Theano\n4. Numpay\n5. Pandas\n6. Scipay\n7. Bob\n8. Caffe2\n9. Matplotlib",
      "metadata": {}
    },
    {
      "cell_type": "markdown",
      "source": "# Data Science Tool Table\n1. Weka\n2. Matlab\n3. Rapid Minor\n4. Apache Spark\n5. Scikit-Learn\n",
      "metadata": {}
    },
    {
      "cell_type": "markdown",
      "source": "# Exercise 7\n## Arithmetic expression \na+b=1",
      "metadata": {}
    },
    {
      "cell_type": "code",
      "source": "# Exercise 8\n(5*5)+8",
      "metadata": {
        "trusted": true
      },
      "execution_count": 6,
      "outputs": [
        {
          "execution_count": 6,
          "output_type": "execute_result",
          "data": {
            "text/plain": "33"
          },
          "metadata": {}
        }
      ]
    },
    {
      "cell_type": "code",
      "source": "m=60\nh=1\nprint(\"Hours=\",h)",
      "metadata": {
        "trusted": true
      },
      "execution_count": 19,
      "outputs": [
        {
          "name": "stdout",
          "text": "Hours= 1\n",
          "output_type": "stream"
        }
      ]
    },
    {
      "cell_type": "markdown",
      "source": "# Exercise 10 \n# Objectives\n1. Data Science learning\n2. Biological Data learning\n3. Exom Data analysis",
      "metadata": {}
    },
    {
      "cell_type": "markdown",
      "source": "# Author Name\nDr. Muhammad Ilyas",
      "metadata": {}
    }
  ]
}